{
 "cells": [
  {
   "cell_type": "code",
   "execution_count": 1,
   "metadata": {},
   "outputs": [],
   "source": [
    "import numpy as np\n",
    "import matplotlib.pyplot as plt\n",
    "import cv2 as cv\n",
    "from scipy . optimize import minimize\n",
    "from scipy import linalg\n",
    "import math\n",
    "from copy import copy\n",
    "import warnings\n",
    "warnings.filterwarnings(\"ignore\")"
   ]
  },
  {
   "cell_type": "code",
   "execution_count": 2,
   "metadata": {},
   "outputs": [],
   "source": [
    "np.random.seed(0)\n",
    "N = 100\n",
    "half_n = N//2\n",
    "r = 10\n",
    "s1 = r/16\n",
    "t = np.random.uniform(0, 2*np.pi, half_n)\n",
    "n = s1*np.random.randn(half_n)\n",
    "x1, y1 = (r+n)*np.cos(t), (r+n)*np.sin(t)\n",
    "\n",
    "x_cir_cor,y_cir_cor = r*np.cos(t), r*np.sin(t)\n",
    "\n",
    "X_circ = np.hstack((x1.reshape(half_n, 1), y1.reshape(half_n, 1 )))\n",
    "\n",
    "m, b = -1, 2\n",
    "x2 = np.linspace(-12, 12, half_n)\n",
    "y2 = m*x2 + b + s1*np.random.randn(half_n)\n",
    "X_line = np.hstack((x2.reshape(half_n, 1), y2.reshape(half_n, 1)))\n",
    "X = np.vstack((X_circ, X_line))\n",
    "\n",
    "x_con = np.concatenate([x1,x2])\n",
    "y_con = np.concatenate([y1,y2])\n"
   ]
  },
  {
   "cell_type": "code",
   "execution_count": 3,
   "metadata": {},
   "outputs": [],
   "source": [
    "e = 0.4\n",
    "sam = 3\n",
    "d = 50\n",
    "p=0.99\n",
    "num_s = np.log(1-p)/np.log(1-(1-e)**sam)"
   ]
  },
  {
   "cell_type": "markdown",
   "metadata": {},
   "source": [
    "Estimation Manually"
   ]
  },
  {
   "cell_type": "code",
   "execution_count": 111,
   "metadata": {},
   "outputs": [
    {
     "name": "stdout",
     "output_type": "stream",
     "text": [
      "53\n"
     ]
    }
   ],
   "source": [
    "in_count = 0\n",
    "\n",
    "while in_count<55:\n",
    "    a1 = np.random.randint(0,100)\n",
    "    a2 = np.random.randint(0,100)\n",
    "    a3 = np.random.randint(0,100)\n",
    "\n",
    "    x_cor1, y_cor1 = x_con[a1],y_con[a1]\n",
    "    x_cor2, y_cor2 = x_con[a2],y_con[a2]\n",
    "    x_cor3, y_cor3 = x_con[a3],y_con[a3]\n",
    "\n",
    "    x_points = (x_cor1, x_cor2, x_cor3)\n",
    "    y_points = (y_cor1, y_cor2, y_cor3)\n",
    "\n",
    "    c = (x_cor1-x_cor2)**2 + (y_cor1-y_cor2)**2\n",
    "    a = (x_cor2-x_cor3)**2 + (y_cor2-y_cor3)**2\n",
    "    b = (x_cor3-x_cor1)**2 + (y_cor3-y_cor1)**2\n",
    "\n",
    "    s = 2*(a*b + b*c + c*a) - (a*a + b*b + c*c)\n",
    "\n",
    "    cen_x = (a*(b+c-a)*x_cor1 + b*(c+a-b)*x_cor2 + c*(a+b-c)*x_cor3) / s\n",
    "    cen_y = (a*(b+c-a)*y_cor1 + b*(c+a-b)*y_cor2 + c*(a+b-c)*y_cor3) / s \n",
    "\n",
    "    ar = a**0.5\n",
    "    br = b**0.5\n",
    "    cr = c**0.5 \n",
    "\n",
    "    r = ar*br*cr / ((ar+br+cr)*(-ar+br+cr)*(ar-br+cr)*(ar+br-cr))**0.5\n",
    "\n",
    "    center = (cen_x, cen_y)\n",
    "\n",
    "    up_t = r+s1*1.65\n",
    "    low_t = r-s1*1.65\n",
    "    \n",
    "    in_count = 0\n",
    "    in_list_x = []\n",
    "    in_list_y = []\n",
    "    for i in range(len(x_con)):\n",
    "        if math.dist((x_con[i],y_con[i]),(cen_x,cen_y))>=low_t and math.dist((x_con[i],y_con[i]),(cen_x,cen_y))<=up_t:\n",
    "            in_count+=1\n",
    "            in_list_x.append(x_con[i])\n",
    "            in_list_y.append(y_con[i])\n",
    "            \n",
    "    if in_count >=53 and r<20:\n",
    "        # fig, ax2 = plt.subplots(1,1,figsize=(10,10))\n",
    "        # circle2 = plt.Circle((cen_x, cen_y), r, color='b',fill=False)\n",
    "\n",
    "        # ax2.axis('equal')\n",
    "        # ax2.scatter(x1, y1, color='k')\n",
    "        # ax2.scatter(x2, y2, color='k')\n",
    "        # ax2.scatter(in_list_x, in_list_y, color='y')\n",
    "        # ax2.scatter(x_points, y_points,color='r')\n",
    "        # ax2.scatter(cen_x,cen_y,color='b',marker='+')\n",
    "        # ax2.add_patch(circle2)\n",
    "\n",
    "        print(in_count)\n",
    "        break\n",
    "\n"
   ]
  },
  {
   "cell_type": "code",
   "execution_count": 36,
   "metadata": {},
   "outputs": [
    {
     "data": {
      "text/plain": [
       "[-8.516684674533817,\n",
       " -7.732490839955598,\n",
       " -9.342001030021294,\n",
       " -8.17674937397819,\n",
       " -6.38025319796503,\n",
       " -8.308775035851893,\n",
       " 7.67227518758244,\n",
       " 9.195351739277744,\n",
       " -7.615807763217815,\n",
       " 2.50899098645394,\n",
       " -9.109878761278049,\n",
       " -9.083870693393505,\n",
       " 9.16600473435582,\n",
       " 9.05786244234232,\n",
       " 8.699965363697183,\n",
       " 9.526161193500183,\n",
       " 4.848650883323003,\n",
       " 1.685959099667122,\n",
       " 6.692183032758017,\n",
       " 9.406255829288003,\n",
       " 2.7118685758077445,\n",
       " -9.81618802610293,\n",
       " 1.85858914279439,\n",
       " 6.613230298374064,\n",
       " -6.562541079009443,\n",
       " 5.858321938682398,\n",
       " 9.432264293618218,\n",
       " -10.357317613801575,\n",
       " -8.665889155948063,\n",
       " -0.9783188158533562,\n",
       " 1.399711546198396,\n",
       " -9.86483022755637,\n",
       " -8.700681530391371,\n",
       " 9.389930604827876,\n",
       " -7.123201436251488,\n",
       " -7.472144801039948,\n",
       " -7.4462458629496355,\n",
       " 8.698666186162182,\n",
       " -4.387907834717077,\n",
       " -6.535206569626395,\n",
       " -8.341520687402756,\n",
       " -5.362522419706444,\n",
       " -4.728597784192157,\n",
       " 2.298740061265848,\n",
       " -3.895467415361226,\n",
       " -7.052741807914162,\n",
       " -6.122448979591837,\n",
       " -5.63265306122449,\n",
       " 7.102040816326529,\n",
       " 7.591836734693878,\n",
       " 8.081632653061224]"
      ]
     },
     "execution_count": 36,
     "metadata": {},
     "output_type": "execute_result"
    }
   ],
   "source": [
    "in_list_x"
   ]
  },
  {
   "cell_type": "code",
   "execution_count": 129,
   "metadata": {},
   "outputs": [
    {
     "data": {
      "text/plain": [
       "<matplotlib.legend.Legend at 0x11df82f6320>"
      ]
     },
     "execution_count": 129,
     "metadata": {},
     "output_type": "execute_result"
    },
    {
     "data": {
      "image/png": "[encoded data removed]",
      "text/plain": [
       "<Figure size 720x720 with 1 Axes>"
      ]
     },
     "metadata": {
      "needs_background": "light"
     },
     "output_type": "display_data"
    }
   ],
   "source": [
    "# Coordinates of the 2D points\n",
    "x = in_list_x\n",
    "y = in_list_y\n",
    "\n",
    "# coordinates of the barycenter\n",
    "x_m = np.mean(x)\n",
    "y_m = np.mean(y)\n",
    "\n",
    "# calculation of the reduced coordinates\n",
    "u = x - x_m\n",
    "v = y - y_m\n",
    "\n",
    "# linear system defining the center in reduced coordinates (uc, vc):\n",
    "#    Suu * uc +  Suv * vc = (Suuu + Suvv)/2\n",
    "#    Suv * uc +  Svv * vc = (Suuv + Svvv)/2\n",
    "Suv  = sum(u*v)\n",
    "Suu  = sum(u**2)\n",
    "Svv  = sum(v**2)\n",
    "Suuv = sum(u**2 * v)\n",
    "Suvv = sum(u*v**2)\n",
    "Suuu = sum(u**3)\n",
    "Svvv = sum(v**3)\n",
    "\n",
    "# Solving the linear system\n",
    "A = np.array([[Suu, Suv], [Suv, Svv]])\n",
    "B = np.array([ Suuu + Suvv, Svvv + Suuv ])/2.0\n",
    "uc, vc = linalg.solve(A, B)\n",
    "\n",
    "xc_1 = x_m + uc\n",
    "yc_1 = y_m + vc\n",
    "\n",
    "# Calculation of all distances from the center (xc_1, yc_1)\n",
    "Ri_1      = np.sqrt((x-xc_1)**2 + (y-yc_1)**2)\n",
    "R_1       = np.mean(Ri_1)\n",
    "residu_1  = sum((Ri_1-R_1)**2)\n",
    "residu2_1 = sum((Ri_1**2-R_1**2)**2)\n",
    "\n",
    "cen = (xc_1,yc_1)\n",
    "\n",
    "fig, ax2 = plt.subplots(1,1,figsize=(10,10))\n",
    "ax2.axis('equal')\n",
    "\n",
    "ax2.scatter(xc_1,yc_1,color='m',marker='+')\n",
    "ax2.scatter(cen_x,cen_y,color='r',marker='+')\n",
    "\n",
    "ax2.scatter(x1, y1, color='k', label='Outliners')\n",
    "ax2.scatter(x2, y2, color='k')\n",
    "ax2.scatter(x, y,color='y', label='Inliners')\n",
    "ax2.scatter(x_points, y_points, color='r', label='Best Sample')\n",
    "\n",
    "\n",
    "circle = plt.Circle((xc_1, yc_1), R_1, color='m',fill=False, label='RANSAC')\n",
    "ax2.add_artist(circle)\n",
    "ax2.add_patch(circle)\n",
    "\n",
    "circle2 = plt.Circle((cen_x, cen_y), r, color='b',fill=False, label='Best Sample')\n",
    "ax2.add_artist(circle2)\n",
    "ax2.add_patch(circle2)\n",
    "\n",
    "\n",
    "ax2.legend()"
   ]
  },
  {
   "cell_type": "code",
   "execution_count": 24,
   "metadata": {},
   "outputs": [
    {
     "data": {
      "text/plain": [
       "7"
      ]
     },
     "execution_count": 24,
     "metadata": {},
     "output_type": "execute_result"
    }
   ],
   "source": [
    "in_count"
   ]
  }
 ],
 "metadata": {
  "interpreter": {
   "hash": "cba790f90a5c1693da64949815872a1391a216ed3eb293d49638652b557fa5c0"
  },
  "kernelspec": {
   "display_name": "Python 3.10.4 64-bit (system)",
   "language": "python",
   "name": "python3"
  },
  "language_info": {
   "codemirror_mode": {
    "name": "ipython",
    "version": 3
   },
   "file_extension": ".py",
   "mimetype": "text/x-python",
   "name": "python",
   "nbconvert_exporter": "python",
   "pygments_lexer": "ipython3",
   "version": "3.10.4"
  },
  "orig_nbformat": 4
 },
 "nbformat": 4,
 "nbformat_minor": 2
}
